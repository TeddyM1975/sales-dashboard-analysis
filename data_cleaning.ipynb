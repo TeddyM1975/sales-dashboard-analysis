{
 "cells": [
  {
   "cell_type": "markdown",
   "id": "c8c641e8-824b-42ad-ba2b-fa580d873fea",
   "metadata": {},
   "source": [
    "# Data Cleaning\n",
    "## Step 1: Loading the Dataset"
   ]
  },
  {
   "cell_type": "code",
   "execution_count": 1,
   "id": "75611eea-84df-4337-82e5-8398e40071ce",
   "metadata": {},
   "outputs": [
    {
     "data": {
      "text/html": [
       "<div>\n",
       "<style scoped>\n",
       "    .dataframe tbody tr th:only-of-type {\n",
       "        vertical-align: middle;\n",
       "    }\n",
       "\n",
       "    .dataframe tbody tr th {\n",
       "        vertical-align: top;\n",
       "    }\n",
       "\n",
       "    .dataframe thead th {\n",
       "        text-align: right;\n",
       "    }\n",
       "</style>\n",
       "<table border=\"1\" class=\"dataframe\">\n",
       "  <thead>\n",
       "    <tr style=\"text-align: right;\">\n",
       "      <th></th>\n",
       "      <th>InvoiceNo</th>\n",
       "      <th>StockCode</th>\n",
       "      <th>Description</th>\n",
       "      <th>Quantity</th>\n",
       "      <th>InvoiceDate</th>\n",
       "      <th>UnitPrice</th>\n",
       "      <th>CustomerID</th>\n",
       "      <th>Country</th>\n",
       "    </tr>\n",
       "  </thead>\n",
       "  <tbody>\n",
       "    <tr>\n",
       "      <th>0</th>\n",
       "      <td>536365</td>\n",
       "      <td>85123A</td>\n",
       "      <td>WHITE HANGING HEART T-LIGHT HOLDER</td>\n",
       "      <td>6</td>\n",
       "      <td>2010-12-01 08:26:00</td>\n",
       "      <td>2.55</td>\n",
       "      <td>17850.0</td>\n",
       "      <td>United Kingdom</td>\n",
       "    </tr>\n",
       "    <tr>\n",
       "      <th>1</th>\n",
       "      <td>536365</td>\n",
       "      <td>71053</td>\n",
       "      <td>WHITE METAL LANTERN</td>\n",
       "      <td>6</td>\n",
       "      <td>2010-12-01 08:26:00</td>\n",
       "      <td>3.39</td>\n",
       "      <td>17850.0</td>\n",
       "      <td>United Kingdom</td>\n",
       "    </tr>\n",
       "    <tr>\n",
       "      <th>2</th>\n",
       "      <td>536365</td>\n",
       "      <td>84406B</td>\n",
       "      <td>CREAM CUPID HEARTS COAT HANGER</td>\n",
       "      <td>8</td>\n",
       "      <td>2010-12-01 08:26:00</td>\n",
       "      <td>2.75</td>\n",
       "      <td>17850.0</td>\n",
       "      <td>United Kingdom</td>\n",
       "    </tr>\n",
       "    <tr>\n",
       "      <th>3</th>\n",
       "      <td>536365</td>\n",
       "      <td>84029G</td>\n",
       "      <td>KNITTED UNION FLAG HOT WATER BOTTLE</td>\n",
       "      <td>6</td>\n",
       "      <td>2010-12-01 08:26:00</td>\n",
       "      <td>3.39</td>\n",
       "      <td>17850.0</td>\n",
       "      <td>United Kingdom</td>\n",
       "    </tr>\n",
       "    <tr>\n",
       "      <th>4</th>\n",
       "      <td>536365</td>\n",
       "      <td>84029E</td>\n",
       "      <td>RED WOOLLY HOTTIE WHITE HEART.</td>\n",
       "      <td>6</td>\n",
       "      <td>2010-12-01 08:26:00</td>\n",
       "      <td>3.39</td>\n",
       "      <td>17850.0</td>\n",
       "      <td>United Kingdom</td>\n",
       "    </tr>\n",
       "  </tbody>\n",
       "</table>\n",
       "</div>"
      ],
      "text/plain": [
       "  InvoiceNo StockCode                          Description  Quantity  \\\n",
       "0    536365    85123A   WHITE HANGING HEART T-LIGHT HOLDER         6   \n",
       "1    536365     71053                  WHITE METAL LANTERN         6   \n",
       "2    536365    84406B       CREAM CUPID HEARTS COAT HANGER         8   \n",
       "3    536365    84029G  KNITTED UNION FLAG HOT WATER BOTTLE         6   \n",
       "4    536365    84029E       RED WOOLLY HOTTIE WHITE HEART.         6   \n",
       "\n",
       "          InvoiceDate  UnitPrice  CustomerID         Country  \n",
       "0 2010-12-01 08:26:00       2.55     17850.0  United Kingdom  \n",
       "1 2010-12-01 08:26:00       3.39     17850.0  United Kingdom  \n",
       "2 2010-12-01 08:26:00       2.75     17850.0  United Kingdom  \n",
       "3 2010-12-01 08:26:00       3.39     17850.0  United Kingdom  \n",
       "4 2010-12-01 08:26:00       3.39     17850.0  United Kingdom  "
      ]
     },
     "execution_count": 1,
     "metadata": {},
     "output_type": "execute_result"
    }
   ],
   "source": [
    "import pandas as pd\n",
    "\n",
    "file_path = 'data/Online_Retail.xlsx'\n",
    "original_data = pd.read_excel(file_path)\n",
    "\n",
    "original_data.head()"
   ]
  },
  {
   "cell_type": "markdown",
   "id": "5f0bad48-c38f-4a83-8786-a8eb61363b93",
   "metadata": {},
   "source": [
    "## Step 2: Inspecting the dataset"
   ]
  },
  {
   "cell_type": "code",
   "execution_count": 2,
   "id": "07c76e06-c5b0-463b-a7e7-1d87d9dd13ec",
   "metadata": {},
   "outputs": [
    {
     "name": "stdout",
     "output_type": "stream",
     "text": [
      "<class 'pandas.core.frame.DataFrame'>\n",
      "RangeIndex: 541909 entries, 0 to 541908\n",
      "Data columns (total 8 columns):\n",
      " #   Column       Non-Null Count   Dtype         \n",
      "---  ------       --------------   -----         \n",
      " 0   InvoiceNo    541909 non-null  object        \n",
      " 1   StockCode    541909 non-null  object        \n",
      " 2   Description  540455 non-null  object        \n",
      " 3   Quantity     541909 non-null  int64         \n",
      " 4   InvoiceDate  541909 non-null  datetime64[ns]\n",
      " 5   UnitPrice    541909 non-null  float64       \n",
      " 6   CustomerID   406829 non-null  float64       \n",
      " 7   Country      541909 non-null  object        \n",
      "dtypes: datetime64[ns](1), float64(2), int64(1), object(4)\n",
      "memory usage: 33.1+ MB\n"
     ]
    }
   ],
   "source": [
    "original_data.info()"
   ]
  },
  {
   "cell_type": "code",
   "execution_count": 3,
   "id": "60de0366-6494-4191-ac6d-e996f8cb6180",
   "metadata": {},
   "outputs": [
    {
     "data": {
      "text/plain": [
       "InvoiceNo           0\n",
       "StockCode           0\n",
       "Description      1454\n",
       "Quantity            0\n",
       "InvoiceDate         0\n",
       "UnitPrice           0\n",
       "CustomerID     135080\n",
       "Country             0\n",
       "dtype: int64"
      ]
     },
     "execution_count": 3,
     "metadata": {},
     "output_type": "execute_result"
    }
   ],
   "source": [
    "#Checking for number of missing values\n",
    "original_data.isna().sum()"
   ]
  },
  {
   "cell_type": "code",
   "execution_count": 4,
   "id": "8e43b3b1-fb95-41f4-933e-5fa7bcc9c824",
   "metadata": {},
   "outputs": [
    {
     "name": "stdout",
     "output_type": "stream",
     "text": [
      "       InvoiceNo StockCode                      Description  Quantity  \\\n",
      "622       536414     22139                              NaN        56   \n",
      "1443      536544     21773  DECORATIVE ROSE BATHROOM BOTTLE         1   \n",
      "1444      536544     21774  DECORATIVE CATS BATHROOM BOTTLE         2   \n",
      "1445      536544     21786               POLKADOT RAIN HAT          4   \n",
      "1446      536544     21787            RAIN PONCHO RETROSPOT         2   \n",
      "...          ...       ...                              ...       ...   \n",
      "541536    581498    85099B          JUMBO BAG RED RETROSPOT         5   \n",
      "541537    581498    85099C   JUMBO  BAG BAROQUE BLACK WHITE         4   \n",
      "541538    581498     85150    LADIES & GENTLEMEN METAL SIGN         1   \n",
      "541539    581498     85174                S/4 CACTI CANDLES         1   \n",
      "541540    581498       DOT                   DOTCOM POSTAGE         1   \n",
      "\n",
      "               InvoiceDate  UnitPrice  CustomerID         Country  \n",
      "622    2010-12-01 11:52:00       0.00         NaN  United Kingdom  \n",
      "1443   2010-12-01 14:32:00       2.51         NaN  United Kingdom  \n",
      "1444   2010-12-01 14:32:00       2.51         NaN  United Kingdom  \n",
      "1445   2010-12-01 14:32:00       0.85         NaN  United Kingdom  \n",
      "1446   2010-12-01 14:32:00       1.66         NaN  United Kingdom  \n",
      "...                    ...        ...         ...             ...  \n",
      "541536 2011-12-09 10:26:00       4.13         NaN  United Kingdom  \n",
      "541537 2011-12-09 10:26:00       4.13         NaN  United Kingdom  \n",
      "541538 2011-12-09 10:26:00       4.96         NaN  United Kingdom  \n",
      "541539 2011-12-09 10:26:00      10.79         NaN  United Kingdom  \n",
      "541540 2011-12-09 10:26:00    1714.17         NaN  United Kingdom  \n",
      "\n",
      "[135080 rows x 8 columns]\n"
     ]
    }
   ],
   "source": [
    "# Output rows with any missing values\n",
    "missing_rows = original_data[original_data.isnull().any(axis=1)]\n",
    "\n",
    "# Display the result\n",
    "print(missing_rows)"
   ]
  },
  {
   "cell_type": "code",
   "execution_count": 61,
   "id": "64663870-8f77-4130-815b-f7ee3ba356b4",
   "metadata": {},
   "outputs": [
    {
     "data": {
      "text/html": [
       "<div>\n",
       "<style scoped>\n",
       "    .dataframe tbody tr th:only-of-type {\n",
       "        vertical-align: middle;\n",
       "    }\n",
       "\n",
       "    .dataframe tbody tr th {\n",
       "        vertical-align: top;\n",
       "    }\n",
       "\n",
       "    .dataframe thead th {\n",
       "        text-align: right;\n",
       "    }\n",
       "</style>\n",
       "<table border=\"1\" class=\"dataframe\">\n",
       "  <thead>\n",
       "    <tr style=\"text-align: right;\">\n",
       "      <th></th>\n",
       "      <th>InvoiceNo</th>\n",
       "      <th>StockCode</th>\n",
       "      <th>Description</th>\n",
       "      <th>Quantity</th>\n",
       "      <th>InvoiceDate</th>\n",
       "      <th>UnitPrice</th>\n",
       "      <th>CustomerID</th>\n",
       "      <th>Country</th>\n",
       "    </tr>\n",
       "  </thead>\n",
       "  <tbody>\n",
       "    <tr>\n",
       "      <th>1970</th>\n",
       "      <td>536545</td>\n",
       "      <td>21134</td>\n",
       "      <td>NaN</td>\n",
       "      <td>1</td>\n",
       "      <td>2010-12-01 14:32:00</td>\n",
       "      <td>0.0</td>\n",
       "      <td>GuestCustomer3</td>\n",
       "      <td>United Kingdom</td>\n",
       "    </tr>\n",
       "    <tr>\n",
       "      <th>1987</th>\n",
       "      <td>536549</td>\n",
       "      <td>85226A</td>\n",
       "      <td>NaN</td>\n",
       "      <td>1</td>\n",
       "      <td>2010-12-01 14:34:00</td>\n",
       "      <td>0.0</td>\n",
       "      <td>GuestCustomer6</td>\n",
       "      <td>United Kingdom</td>\n",
       "    </tr>\n",
       "    <tr>\n",
       "      <th>1988</th>\n",
       "      <td>536550</td>\n",
       "      <td>85044</td>\n",
       "      <td>NaN</td>\n",
       "      <td>1</td>\n",
       "      <td>2010-12-01 14:34:00</td>\n",
       "      <td>0.0</td>\n",
       "      <td>GuestCustomer7</td>\n",
       "      <td>United Kingdom</td>\n",
       "    </tr>\n",
       "    <tr>\n",
       "      <th>2024</th>\n",
       "      <td>536552</td>\n",
       "      <td>20950</td>\n",
       "      <td>NaN</td>\n",
       "      <td>1</td>\n",
       "      <td>2010-12-01 14:34:00</td>\n",
       "      <td>0.0</td>\n",
       "      <td>GuestCustomer8</td>\n",
       "      <td>United Kingdom</td>\n",
       "    </tr>\n",
       "    <tr>\n",
       "      <th>2026</th>\n",
       "      <td>536554</td>\n",
       "      <td>84670</td>\n",
       "      <td>NaN</td>\n",
       "      <td>23</td>\n",
       "      <td>2010-12-01 14:35:00</td>\n",
       "      <td>0.0</td>\n",
       "      <td>GuestCustomer10</td>\n",
       "      <td>United Kingdom</td>\n",
       "    </tr>\n",
       "    <tr>\n",
       "      <th>...</th>\n",
       "      <td>...</td>\n",
       "      <td>...</td>\n",
       "      <td>...</td>\n",
       "      <td>...</td>\n",
       "      <td>...</td>\n",
       "      <td>...</td>\n",
       "      <td>...</td>\n",
       "      <td>...</td>\n",
       "    </tr>\n",
       "    <tr>\n",
       "      <th>280754</th>\n",
       "      <td>561498</td>\n",
       "      <td>21610</td>\n",
       "      <td>NaN</td>\n",
       "      <td>-14</td>\n",
       "      <td>2011-07-27 14:10:00</td>\n",
       "      <td>0.0</td>\n",
       "      <td>GuestCustomer2380</td>\n",
       "      <td>United Kingdom</td>\n",
       "    </tr>\n",
       "    <tr>\n",
       "      <th>281615</th>\n",
       "      <td>561555</td>\n",
       "      <td>37477B</td>\n",
       "      <td>NaN</td>\n",
       "      <td>-11</td>\n",
       "      <td>2011-07-28 10:21:00</td>\n",
       "      <td>0.0</td>\n",
       "      <td>GuestCustomer2404</td>\n",
       "      <td>United Kingdom</td>\n",
       "    </tr>\n",
       "    <tr>\n",
       "      <th>281616</th>\n",
       "      <td>561557</td>\n",
       "      <td>37477C</td>\n",
       "      <td>NaN</td>\n",
       "      <td>-31</td>\n",
       "      <td>2011-07-28 10:21:00</td>\n",
       "      <td>0.0</td>\n",
       "      <td>GuestCustomer2405</td>\n",
       "      <td>United Kingdom</td>\n",
       "    </tr>\n",
       "    <tr>\n",
       "      <th>346849</th>\n",
       "      <td>567207</td>\n",
       "      <td>35592T</td>\n",
       "      <td>NaN</td>\n",
       "      <td>4</td>\n",
       "      <td>2011-09-19 11:01:00</td>\n",
       "      <td>0.0</td>\n",
       "      <td>GuestCustomer2754</td>\n",
       "      <td>United Kingdom</td>\n",
       "    </tr>\n",
       "    <tr>\n",
       "      <th>497301</th>\n",
       "      <td>578360</td>\n",
       "      <td>84971L</td>\n",
       "      <td>NaN</td>\n",
       "      <td>2</td>\n",
       "      <td>2011-11-24 10:36:00</td>\n",
       "      <td>0.0</td>\n",
       "      <td>GuestCustomer3530</td>\n",
       "      <td>United Kingdom</td>\n",
       "    </tr>\n",
       "  </tbody>\n",
       "</table>\n",
       "<p>112 rows × 8 columns</p>\n",
       "</div>"
      ],
      "text/plain": [
       "       InvoiceNo StockCode Description  Quantity         InvoiceDate  \\\n",
       "1970      536545     21134         NaN         1 2010-12-01 14:32:00   \n",
       "1987      536549    85226A         NaN         1 2010-12-01 14:34:00   \n",
       "1988      536550     85044         NaN         1 2010-12-01 14:34:00   \n",
       "2024      536552     20950         NaN         1 2010-12-01 14:34:00   \n",
       "2026      536554     84670         NaN        23 2010-12-01 14:35:00   \n",
       "...          ...       ...         ...       ...                 ...   \n",
       "280754    561498     21610         NaN       -14 2011-07-27 14:10:00   \n",
       "281615    561555    37477B         NaN       -11 2011-07-28 10:21:00   \n",
       "281616    561557    37477C         NaN       -31 2011-07-28 10:21:00   \n",
       "346849    567207    35592T         NaN         4 2011-09-19 11:01:00   \n",
       "497301    578360    84971L         NaN         2 2011-11-24 10:36:00   \n",
       "\n",
       "        UnitPrice         CustomerID         Country  \n",
       "1970          0.0     GuestCustomer3  United Kingdom  \n",
       "1987          0.0     GuestCustomer6  United Kingdom  \n",
       "1988          0.0     GuestCustomer7  United Kingdom  \n",
       "2024          0.0     GuestCustomer8  United Kingdom  \n",
       "2026          0.0    GuestCustomer10  United Kingdom  \n",
       "...           ...                ...             ...  \n",
       "280754        0.0  GuestCustomer2380  United Kingdom  \n",
       "281615        0.0  GuestCustomer2404  United Kingdom  \n",
       "281616        0.0  GuestCustomer2405  United Kingdom  \n",
       "346849        0.0  GuestCustomer2754  United Kingdom  \n",
       "497301        0.0  GuestCustomer3530  United Kingdom  \n",
       "\n",
       "[112 rows x 8 columns]"
      ]
     },
     "execution_count": 61,
     "metadata": {},
     "output_type": "execute_result"
    }
   ],
   "source": [
    "original_data[original_data['Description'].isnull()]"
   ]
  },
  {
   "cell_type": "markdown",
   "id": "914bbc69-68ab-40bb-96c3-c6b31286ae58",
   "metadata": {},
   "source": [
    "## Step 3: Filling in Missing values"
   ]
  },
  {
   "cell_type": "markdown",
   "id": "14a26abb-049a-46f0-9018-00bea125166e",
   "metadata": {
    "jp-MarkdownHeadingCollapsed": true
   },
   "source": [
    "### Filling in Missing values in Description feature"
   ]
  },
  {
   "cell_type": "code",
   "execution_count": 8,
   "id": "d287fd3f-3ce2-479b-9136-9a0567b5ab81",
   "metadata": {},
   "outputs": [],
   "source": [
    "#Using Stock Code to find out the missing values In Decsription \n",
    "# Loop through rows with missing Description\n",
    "for stock_code in original_data[original_data['Description'].isnull()]['StockCode'].unique():\n",
    "    # Find rows with the same StockCode\n",
    "    matching_rows = original_data[original_data['StockCode'] == stock_code]\n",
    "    \n",
    "    # Check if there are any non-missing Description values\n",
    "    non_missing_description = matching_rows['Description'].dropna().unique()\n",
    "    \n",
    "    # If a non-missing value exists, replace the missing values\n",
    "    if len(non_missing_description) > 0:\n",
    "        # Use the first non-missing value (assuming all are the same)\n",
    "        replacement_value = non_missing_description[0]\n",
    "        \n",
    "        # Update missing values in Description for this StockCode\n",
    "        original_data.loc[\n",
    "            (original_data['StockCode'] == stock_code) & \n",
    "            (original_data['Description'].isnull()), \n",
    "            'Description'\n",
    "        ] = replacement_value"
   ]
  },
  {
   "cell_type": "code",
   "execution_count": 9,
   "id": "5c7a9220-a79d-440c-9b16-aaaf699990fc",
   "metadata": {},
   "outputs": [],
   "source": [
    "#Renaming Description name that don't look like product name to 'Invalid Description Naming'\n",
    "original_data.loc[(~original_data['Description'].astype(str).str.isupper()) & (original_data['Description'].astype(str).str.len() <= 10) & (~original_data['Description'].isnull()), 'Description'] = 'Invalid Description Naming'"
   ]
  },
  {
   "cell_type": "code",
   "execution_count": 64,
   "id": "842673d4-5216-49b0-b85c-4e8c0fd2c547",
   "metadata": {},
   "outputs": [],
   "source": [
    "original_data['Description'] = original_data['Description'].fillna('No description')"
   ]
  },
  {
   "cell_type": "code",
   "execution_count": 10,
   "id": "28bef6b3-744c-4423-b08c-046bf1984146",
   "metadata": {},
   "outputs": [
    {
     "data": {
      "text/plain": [
       "'\\narray([\\'Discount\\', nan, \\'Manual\\', \\'Amazon\\', \\'?\\', \\'Check\\', \\'Damages\\',\\n       \\'Faulty\\', \\'Found\\', \\'Counted\\', \\'Given Away\\', \\'Dotcom\\', \\'Showroom\\',\\n       \\'Adjustment\\', \\'Dotcom Set\\', \\'Broken\\', \\'Throw Away\\', \\'?Lost\\',\\n       \\'Damages?\\', \\'Cracked\\', \\'Damaged\\', \\'Display\\', \\'Missing\\', \\'Returned\\',\\n       \\'Wrong Code\\', \\'Adjust\\', \\'Crushed\\', \\'Samples\\', \\'Mailout \\',\\n       \\'Mailout\\', \\'Wet/Rusty\\', \\'Smashed\\', \\'Ebay\\', \\'?Display?\\',\\n       \\'Sold As 1\\', \\'?Missing\\', \\'Test\\', \\'??\\', \\'Found Box\\', \\'Dagamed\\',\\n       \"Can\\'T Find\", \\'Mouldy\\', \\'Sale Error\\', \\'Breakages\\', \\'Missing?\\',\\n       \\'Wet Rusty\\', \\'???Lost\\', \\'John Lewis\\', \\'Check?\\', \\'?? Missing\\',\\n       \\'Wet Pallet\\', \\'???Missing\\', \\'Wet?\\', \\'Lost??\\', \\'???\\', \\'Wet\\',\\n       \\'Wet Boxes\\', \\'Mixed Up\\', \\'Lost\\'], dtype=object)\\n'"
      ]
     },
     "execution_count": 10,
     "metadata": {},
     "output_type": "execute_result"
    }
   ],
   "source": [
    "\"\"\"\n",
    "array(['Discount', 'Manual', 'Amazon', '?', 'Check', 'Damages',\n",
    "       'Faulty', 'Found', 'Counted', 'Given Away', 'Dotcom', 'Showroom',\n",
    "       'Adjustment', 'Dotcom Set', 'Broken', 'Throw Away', '?Lost',\n",
    "       'Damages?', 'Cracked', 'Damaged', 'Display', 'Missing', 'Returned',\n",
    "       'Wrong Code', 'Adjust', 'Crushed', 'Samples', 'Mailout ',\n",
    "       'Mailout', 'Wet/Rusty', 'Smashed', 'Ebay', '?Display?',\n",
    "       'Sold As 1', '?Missing', 'Test', '??', 'Found Box', 'Dagamed',\n",
    "       \"Can'T Find\", 'Mouldy', 'Sale Error', 'Breakages', 'Missing?',\n",
    "       'Wet Rusty', '???Lost', 'John Lewis', 'Check?', '?? Missing',\n",
    "       'Wet Pallet', '???Missing', 'Wet?', 'Lost??', '???', 'Wet',\n",
    "       'Wet Boxes', 'Mixed Up', 'Lost'], dtype=object)\n",
    "\"\"\""
   ]
  },
  {
   "cell_type": "markdown",
   "id": "09c96053-55c3-4243-aaac-2e66722a4167",
   "metadata": {},
   "source": [
    "### Filling Missing values in CustomerID feature"
   ]
  },
  {
   "cell_type": "code",
   "execution_count": 42,
   "id": "5fa0ca77-e455-498d-8250-06acbbaaef1f",
   "metadata": {},
   "outputs": [],
   "source": [
    "#Checking if the null values in 'CustomerID' can be gotten from the 'InvoiceNo'\n",
    "missing_customerid = original_data[original_data['CustomerID'].isnull()]\n",
    "missing_invoice_counts = missing_customerid['InvoiceNo'].value_counts()\n",
    "mic = missing_invoice_counts.index.to_list()\n",
    "\n",
    "non_missing_customerid = original_data[~original_data['CustomerID'].isnull()]\n",
    "non_missing_invoice_counts = non_missing_customerid['InvoiceNo'].value_counts()\n",
    "nmic = non_missing_invoice_counts.index.to_list()\n",
    "\n",
    "for invoice_counts in mic:\n",
    "    if invoice_counts in nmic:\n",
    "        print(i)\n",
    "        "
   ]
  },
  {
   "cell_type": "code",
   "execution_count": 52,
   "id": "da742906-6bf4-496a-8a0e-b6c3a4c23728",
   "metadata": {},
   "outputs": [],
   "source": [
    "#Assign GuestCustomers unique value to each CustomerID null value with unique InvoicNo\n",
    "nan_invoices = original_data[original_data['CustomerID'].isnull()]['InvoiceNo'].unique()\n",
    "\n",
    "guest_mapping = {invoice: f\"GuestCustomer{idx + 1}\" for idx, invoice in enumerate(nan_invoices)}\n",
    "guest_mapping\n",
    "\n",
    "original_data['CustomerID'] = original_data.apply(\n",
    "    lambda row: guest_mapping[row['InvoiceNo']] if pd.isna(row['CustomerID']) else row['CustomerID'],\n",
    "    axis=1\n",
    ")"
   ]
  },
  {
   "cell_type": "markdown",
   "id": "e3b03fdc-cb1b-467d-a259-8d935c831a70",
   "metadata": {},
   "source": [
    "## Step 4: Dropping Duplicates"
   ]
  },
  {
   "cell_type": "code",
   "execution_count": 70,
   "id": "e719b464-1b37-4150-a7cb-2eb102c96ada",
   "metadata": {},
   "outputs": [],
   "source": [
    "original_data = original_data.drop_duplicates()"
   ]
  },
  {
   "cell_type": "markdown",
   "id": "760791ca-fe70-4024-86ec-cabd511aebc5",
   "metadata": {},
   "source": [
    "## Step 5: Save Cleaned Data"
   ]
  },
  {
   "cell_type": "code",
   "execution_count": 72,
   "id": "c76e9a92-2a20-4bd9-afe0-46111b2f4110",
   "metadata": {},
   "outputs": [],
   "source": [
    "original_data.to_csv('data/cleaned_sales_data.csv', index=False)"
   ]
  },
  {
   "cell_type": "code",
   "execution_count": null,
   "id": "6bca1465-fc54-4b50-9efd-53afe830896c",
   "metadata": {},
   "outputs": [],
   "source": []
  }
 ],
 "metadata": {
  "kernelspec": {
   "display_name": "Python 3 (ipykernel)",
   "language": "python",
   "name": "python3"
  },
  "language_info": {
   "codemirror_mode": {
    "name": "ipython",
    "version": 3
   },
   "file_extension": ".py",
   "mimetype": "text/x-python",
   "name": "python",
   "nbconvert_exporter": "python",
   "pygments_lexer": "ipython3",
   "version": "3.10.2"
  }
 },
 "nbformat": 4,
 "nbformat_minor": 5
}
